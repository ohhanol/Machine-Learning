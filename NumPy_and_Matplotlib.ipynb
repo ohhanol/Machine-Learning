{
  "cells": [
    {
      "cell_type": "markdown",
      "metadata": {
        "id": "view-in-github",
        "colab_type": "text"
      },
      "source": [
        "<a href=\"https://colab.research.google.com/github/ohhanol/MachineLearning/blob/main/NumPy_and_Matplotlib.ipynb\" target=\"_parent\"><img src=\"https://colab.research.google.com/assets/colab-badge.svg\" alt=\"Open In Colab\"/></a>"
      ]
    },
    {
      "cell_type": "code",
      "source": [
        "# 구글 드라이브 사용 권한 설정\n",
        "from google.colab import drive\n",
        "drive.mount('/content/drive')"
      ],
      "metadata": {
        "id": "ADD1LUcWOca1",
        "colab": {
          "base_uri": "https://localhost:8080/"
        },
        "outputId": "22b3a71e-8ae3-4026-975b-0611f750d68e"
      },
      "execution_count": null,
      "outputs": [
        {
          "output_type": "stream",
          "name": "stdout",
          "text": [
            "Mounted at /content/drive\n"
          ]
        }
      ]
    },
    {
      "cell_type": "code",
      "source": [
        "# 작업할 폴더 위치 설정 (본인 폴더 경로에 맞게 수정필요)\n",
        "colab_path = \"/content/drive/MyDrive/MachineLearning/3주차\""
      ],
      "metadata": {
        "id": "Ub1TFpMPWHFE"
      },
      "execution_count": null,
      "outputs": []
    },
    {
      "cell_type": "markdown",
      "source": [
        "##Python에서 다차원 배열 작업을 위한 NumPy 라이브러리에 대한 실습\n",
        "\n",
        "NumPy: Numerical Python의 줄임말로 NumPy는 다차원 배열 데이터 구조를 효율적으로 사용할 수 있는 편리한 Python 인터페이스를 제공\n"
      ],
      "metadata": {
        "id": "KzUqEOGSvOXv"
      }
    },
    {
      "cell_type": "markdown",
      "metadata": {
        "id": "tUpjdW7rjqfG"
      },
      "source": [
        "### N-dimensional Arrays(ndarray)\n",
        "\n",
        "> 들여쓴 블록\n",
        "\n",
        "\n",
        "- 고정된 크기의 동형 다차원 배열\n",
        "- 고정된 크기: 배열을 생성할 때, 크기 결정\n",
        "- 동형: 같은 type의 원소로 구성된 배열"
      ]
    },
    {
      "cell_type": "code",
      "execution_count": null,
      "metadata": {
        "id": "t2VD-RFKjqfH",
        "colab": {
          "base_uri": "https://localhost:8080/"
        },
        "outputId": "4e36d02e-76de-49e9-c31c-00dce8118807"
      },
      "outputs": [
        {
          "output_type": "stream",
          "name": "stdout",
          "text": [
            "[[1 2 3]\n",
            " [4 5 6]]\n",
            "[0.1 0.2 0.3]\n"
          ]
        }
      ],
      "source": [
        "# numpy 라이브러리 import\n",
        "# np는 별명\n",
        "# 이 줄이 맨 위에 선언되어있어야 함\n",
        "\n",
        "import numpy as np\n",
        "\n",
        "# list로 numpy array 생성\n",
        "lst=[[1,2,3], [4,5,6]]  # list -> 값 변경 가능\n",
        "ary2d=np.array(lst)\n",
        "print(ary2d)\n",
        "\n",
        "# tuple로 numpy array 생성\n",
        "tup=((0.1, 0.2, 0.3)) # tuple -> 값 변경 가능\n",
        "ary2d_2=np.array(tup)\n",
        "print(ary2d_2)"
      ]
    },
    {
      "cell_type": "markdown",
      "source": [
        "기본적으로 NumPy는 ndarray를 생성할 때, 배열의 유형을 추론  \n",
        "Python 정수를 배열에 전달했으므로 `ndarray` 객체 `ary2d`는 64비트 시스템에서 `int64` 유형이어야 하고, 이는 `dtype` 속성을 출력하여 확인 가능"
      ],
      "metadata": {
        "id": "jNFYLPFpwPtB"
      }
    },
    {
      "cell_type": "code",
      "execution_count": null,
      "metadata": {
        "id": "l3UO2rNujqfI",
        "colab": {
          "base_uri": "https://localhost:8080/"
        },
        "outputId": "ebc15ab0-2513-4ea4-a6a2-0f8f64372f03"
      },
      "outputs": [
        {
          "output_type": "execute_result",
          "data": {
            "text/plain": [
              "dtype('int64')"
            ]
          },
          "metadata": {},
          "execution_count": 5
        }
      ],
      "source": [
        "# 생성한 배열의 data type 확인\n",
        "ary2d.dtype"
      ]
    },
    {
      "cell_type": "markdown",
      "source": [
        "다양한 유형의 NumPy 배열을 구성하려면 `array` 함수의 `dtype` 매개변수에 인수를 전달할 수 있음  \n",
        "예를 들어 `np.int32`를 사용하면 32비트 배열을 생성 가능  \n",
        "지원되는 데이터 유형의 전체 목록은 공식 [NumPy 문서](https://docs.scipy.org/doc/numpy/user/basics.types.html)를 참조  \n",
        "배열이 생성되면 다음 예와 같이 `astype` 메서드를 통해 해당 유형을 다운캐스트하거나 다시 캐스팅할 수 있음"
      ],
      "metadata": {
        "id": "uVEOuJ8SwUJ9"
      }
    },
    {
      "cell_type": "code",
      "execution_count": null,
      "metadata": {
        "id": "h809LKNTjqfI",
        "colab": {
          "base_uri": "https://localhost:8080/"
        },
        "outputId": "fa9869fd-6e70-41a0-8384-237215d4c0fa"
      },
      "outputs": [
        {
          "output_type": "execute_result",
          "data": {
            "text/plain": [
              "array([[1., 2., 3.],\n",
              "       [4., 5., 6.]], dtype=float32)"
            ]
          },
          "metadata": {},
          "execution_count": 6
        }
      ],
      "source": [
        "# 생성한 배열의 type을 float32로 변경 및 출력\n",
        "float32_ary=ary2d.astype(np.float32)\n",
        "float32_ary"
      ]
    },
    {
      "cell_type": "code",
      "execution_count": null,
      "metadata": {
        "id": "HItGvEHbjqfJ",
        "colab": {
          "base_uri": "https://localhost:8080/"
        },
        "outputId": "07cca24f-268e-4aea-95d5-fcfed26ea8a2"
      },
      "outputs": [
        {
          "output_type": "execute_result",
          "data": {
            "text/plain": [
              "dtype('float32')"
            ]
          },
          "metadata": {},
          "execution_count": 7
        }
      ],
      "source": [
        "# 배열의 타입 확인\n",
        "float32_ary.dtype"
      ]
    },
    {
      "cell_type": "code",
      "execution_count": null,
      "metadata": {
        "id": "JA3JDoyUjqfJ",
        "colab": {
          "base_uri": "https://localhost:8080/"
        },
        "outputId": "2f87261d-4e3a-4043-dd01-ba32bf2a0087"
      },
      "outputs": [
        {
          "output_type": "execute_result",
          "data": {
            "text/plain": [
              "6"
            ]
          },
          "metadata": {},
          "execution_count": 8
        }
      ],
      "source": [
        "# 배열 요소의 갯수 확인\n",
        "ary2d.size"
      ]
    },
    {
      "cell_type": "code",
      "source": [
        "# 배열의 차원 수 확인\n",
        "ary2d.ndim"
      ],
      "metadata": {
        "id": "vYb_23-j916j",
        "colab": {
          "base_uri": "https://localhost:8080/"
        },
        "outputId": "ebd968b7-c374-46fa-a025-f137eba851be"
      },
      "execution_count": null,
      "outputs": [
        {
          "output_type": "execute_result",
          "data": {
            "text/plain": [
              "2"
            ]
          },
          "metadata": {},
          "execution_count": 9
        }
      ]
    },
    {
      "cell_type": "code",
      "source": [
        "# 각 배열 차원의 요소 수(*)\n",
        "ary2d.shape"
      ],
      "metadata": {
        "id": "M2YHr7q_93gI",
        "colab": {
          "base_uri": "https://localhost:8080/"
        },
        "outputId": "8e3025d7-2223-4e4b-e9bf-215ab5019111"
      },
      "execution_count": null,
      "outputs": [
        {
          "output_type": "execute_result",
          "data": {
            "text/plain": [
              "(2, 3)"
            ]
          },
          "metadata": {},
          "execution_count": 10
        }
      ]
    },
    {
      "cell_type": "markdown",
      "metadata": {
        "id": "wFyU8zyfjqfL"
      },
      "source": [
        "## Array Construction Routines  \n",
        "#### 이 섹션에서는 배열 구성 함수를 소개\n",
        "- 1이나 0의 배열을 생성하는 것은 계산에 초기 값을 사용하지 않고 즉시 다른 값으로 채우려는 경우 자리 표시자 배열로 유용할 수 있음"
      ]
    },
    {
      "cell_type": "code",
      "execution_count": null,
      "metadata": {
        "id": "pRPhKg3jjqfL",
        "colab": {
          "base_uri": "https://localhost:8080/"
        },
        "outputId": "4db38d91-62a9-4bd9-bd3d-a9f016c99911"
      },
      "outputs": [
        {
          "output_type": "execute_result",
          "data": {
            "text/plain": [
              "array([[1., 1., 1.],\n",
              "       [1., 1., 1.],\n",
              "       [1., 1., 1.]])"
            ]
          },
          "metadata": {},
          "execution_count": 11
        }
      ],
      "source": [
        "# 배열의 요소를 모두 1로 초기화\n",
        "np.ones((3,3))"
      ]
    },
    {
      "cell_type": "code",
      "execution_count": null,
      "metadata": {
        "id": "f2sccs8cjqfL",
        "colab": {
          "base_uri": "https://localhost:8080/"
        },
        "outputId": "465c65fc-5698-4951-e00a-5db61d5b10f0"
      },
      "outputs": [
        {
          "output_type": "execute_result",
          "data": {
            "text/plain": [
              "array([[0., 0., 0.],\n",
              "       [0., 0., 0.],\n",
              "       [0., 0., 0.]])"
            ]
          },
          "metadata": {},
          "execution_count": 12
        }
      ],
      "source": [
        "# 배열의 요소를 모두 0로 초기화\n",
        "np.zeros((3,3))"
      ]
    },
    {
      "cell_type": "code",
      "execution_count": null,
      "metadata": {
        "id": "4J3zWVD2jqfM",
        "colab": {
          "base_uri": "https://localhost:8080/"
        },
        "outputId": "f4cc3eb2-330d-4753-ed73-ea578b937ec6"
      },
      "outputs": [
        {
          "output_type": "execute_result",
          "data": {
            "text/plain": [
              "array([[1., 0., 0.],\n",
              "       [0., 1., 0.],\n",
              "       [0., 0., 1.]])"
            ]
          },
          "metadata": {},
          "execution_count": 13
        }
      ],
      "source": [
        "# np.eye(n) -> nxn차원의 대각행렬 생성\n",
        "np.eye(3)"
      ]
    },
    {
      "cell_type": "markdown",
      "source": [
        "**np.diag은 두가지 기능을 제공**\n",
        "\n",
        "- 대각행렬 생성 기능 : v가 1차원 배열일때, v를 대각행렬로 하는 2차원 배열을 만들어줌\n",
        "- 대각요소 추출 기능 : v가 2차원 배열일때, v의 대각선 요소들을 1차원으로 뽑아줌"
      ],
      "metadata": {
        "id": "kydzfbLS_8HE"
      }
    },
    {
      "cell_type": "code",
      "source": [
        "# [0 1 2] 값을 가지는 list arr1d 생성\n",
        "arr1d=np.arange(3)  # arange(3)은 0~3까지의 값을 가지는 배열을 생성 (3은 미포함)\n",
        "print(arr1d)\n",
        "\n",
        "# arr1d의 값으로 대칭행렬로 만들어 출력\n",
        "print(np.diag(arr1d))"
      ],
      "metadata": {
        "id": "xVLSTrgDAknc",
        "colab": {
          "base_uri": "https://localhost:8080/"
        },
        "outputId": "74476b4f-907d-43a4-b0f9-bc8625dc1a92"
      },
      "execution_count": null,
      "outputs": [
        {
          "output_type": "stream",
          "name": "stdout",
          "text": [
            "[0 1 2]\n",
            "[[0 0 0]\n",
            " [0 1 0]\n",
            " [0 0 2]]\n"
          ]
        }
      ]
    },
    {
      "cell_type": "code",
      "source": [
        "# [0, 1, 2, ..., 8]의 값을 가지는 3x3형태의 2차원 list arr2d 생성\n",
        "arr2d=np.arange(9).reshape((3,3))\n",
        "print(arr2d)\n",
        "\n",
        "# arr2d의 대각선 요소를 출력\n",
        "print(f\"np.diag(arr2d):{np.diag(arr2d)}\")"
      ],
      "metadata": {
        "id": "Up79LJ2wALPz",
        "colab": {
          "base_uri": "https://localhost:8080/"
        },
        "outputId": "ac83c66f-7647-44fa-bb9e-2e4d0caa18df"
      },
      "execution_count": null,
      "outputs": [
        {
          "output_type": "stream",
          "name": "stdout",
          "text": [
            "[[0 1 2]\n",
            " [3 4 5]\n",
            " [6 7 8]]\n",
            "np.diag(arr2d):[0 4 8]\n"
          ]
        }
      ]
    },
    {
      "cell_type": "code",
      "execution_count": null,
      "metadata": {
        "id": "TqCcGRCdjqfM",
        "colab": {
          "base_uri": "https://localhost:8080/"
        },
        "outputId": "c16a6943-0006-41fb-ce27-028930e1722f"
      },
      "outputs": [
        {
          "output_type": "execute_result",
          "data": {
            "text/plain": [
              "array([[1, 0, 0],\n",
              "       [0, 2, 0],\n",
              "       [0, 0, 3]])"
            ]
          },
          "metadata": {},
          "execution_count": 16
        }
      ],
      "source": [
        "# (1, 2, 3)로 대각행렬 생성\n",
        "np.diag((1,2,3))\n"
      ]
    },
    {
      "cell_type": "markdown",
      "metadata": {
        "id": "9TfqBRd-jqfM"
      },
      "source": [
        "지정된 범위 내에서 일련의 숫자를 생성하는 함수: `arange`, `linspace`  \n",
        " NumPy의 `arange` 함수는 Python의 `range` 객체와 동일한 구문형식을 가짐  \n",
        "- 두 개의 인수가 제공되면 첫 번째 인수는 시작 값을 나타내고 두 번째 값은 중지 값을 정의\n",
        "- Python의 `range`와 유사하게 세 번째 인수를 제공하여 단계를 정의할 수 있음"
      ]
    },
    {
      "cell_type": "code",
      "execution_count": null,
      "metadata": {
        "id": "XXTYv0XkjqfM",
        "colab": {
          "base_uri": "https://localhost:8080/"
        },
        "outputId": "be7953c5-5b6a-4d1e-96da-6bb1cb3d3784"
      },
      "outputs": [
        {
          "output_type": "execute_result",
          "data": {
            "text/plain": [
              "array([4., 5., 6., 7., 8., 9.])"
            ]
          },
          "metadata": {},
          "execution_count": 17
        }
      ],
      "source": [
        "# numpy의 arange 함수를 사용하여 4에서 10까지의 값을 가지는 배열 생성\n",
        "np.arange(4.,10.)   # float형"
      ]
    },
    {
      "cell_type": "code",
      "execution_count": null,
      "metadata": {
        "id": "dT31x5Q1jqfN",
        "colab": {
          "base_uri": "https://localhost:8080/"
        },
        "outputId": "6b8faaff-9a15-454e-d41c-3de717e0caf0"
      },
      "outputs": [
        {
          "output_type": "execute_result",
          "data": {
            "text/plain": [
              "array([1., 3., 5., 7., 9.])"
            ]
          },
          "metadata": {},
          "execution_count": 18
        }
      ],
      "source": [
        "# numpy의 arange 함수를 사용하여 1에서 11까지 2씩 더해지는 배열을 생성\n",
        "np.arange(1.,11.,2.)"
      ]
    },
    {
      "cell_type": "markdown",
      "metadata": {
        "id": "bOfcgV2bjqfN"
      },
      "source": [
        "`linspace` 함수는 지정된 범위에서 지정한 갯수의 균일한 값을 가지는 배열을 생성가능"
      ]
    },
    {
      "cell_type": "code",
      "execution_count": null,
      "metadata": {
        "id": "-b0vtTW5jqfO",
        "colab": {
          "base_uri": "https://localhost:8080/"
        },
        "outputId": "59fbef7f-8375-4a54-872b-0d19b5ff3414"
      },
      "outputs": [
        {
          "output_type": "execute_result",
          "data": {
            "text/plain": [
              "array([0.  , 0.25, 0.5 , 0.75, 1.  ])"
            ]
          },
          "metadata": {},
          "execution_count": 19
        }
      ],
      "source": [
        "# numpy의 linspace 함수를 사용하여 0에서 1사이에 균일한 간격을 가지는 5개 요소를 가지는 배열 생성\n",
        "np.linspace(0.,1.,5)\n",
        "# np.linspace(0.,1.,num=5)\n"
      ]
    },
    {
      "cell_type": "markdown",
      "metadata": {
        "id": "IhYEcuXAjqfP"
      },
      "source": [
        "### Array Indexing"
      ]
    },
    {
      "cell_type": "markdown",
      "metadata": {
        "id": "EKBfEL_NjqfP"
      },
      "source": [
        "이 섹션에서는 다양한 인덱싱 방법을 통해 NumPy 배열 요소를 검색하는 기본 사항을 살펴보겠습니다. 간단한 NumPy 인덱싱 및 슬라이싱은 Python 목록과 유사하게 작동하며, 1차원 배열의 첫 번째 요소를 검색하는 다음 코드 조각에서 이를 보여줍니다."
      ]
    },
    {
      "cell_type": "code",
      "execution_count": null,
      "metadata": {
        "id": "QxYcHIqzjqfP",
        "colab": {
          "base_uri": "https://localhost:8080/"
        },
        "outputId": "50891ece-810b-4024-b4f2-c2c0c6071a6e"
      },
      "outputs": [
        {
          "output_type": "execute_result",
          "data": {
            "text/plain": [
              "1"
            ]
          },
          "metadata": {},
          "execution_count": 20
        }
      ],
      "source": [
        "# numpy array ary를 생성하여 첫번째 요소를 출력\n",
        "ary=np.array([1,2,3])\n",
        "ary[0]"
      ]
    },
    {
      "cell_type": "code",
      "execution_count": null,
      "metadata": {
        "id": "U6u5WdQZjqfP",
        "colab": {
          "base_uri": "https://localhost:8080/"
        },
        "outputId": "4a2c0b98-e05f-4b60-abcf-b15030eff940"
      },
      "outputs": [
        {
          "output_type": "stream",
          "name": "stdout",
          "text": [
            "[1 2]\n",
            "[1 2]\n"
          ]
        }
      ],
      "source": [
        "# ary의 처음 두개의 값을 출력\n",
        "print(ary[0:2])\n",
        "print(ary[:2])\n"
      ]
    },
    {
      "cell_type": "markdown",
      "metadata": {
        "id": "4TKmX3M9jqfQ"
      },
      "source": [
        "둘 이상의 차원이나 축이 있는 배열로 작업하는 경우 아래 일련의 예에 표시된 대로 인덱싱 또는 슬라이싱 작업을 쉼표로 구분합니다."
      ]
    },
    {
      "cell_type": "code",
      "execution_count": null,
      "metadata": {
        "id": "OUTpzPZTjqfQ",
        "colab": {
          "base_uri": "https://localhost:8080/"
        },
        "outputId": "5ef44264-ae72-4a42-f002-8384a3e731b7"
      },
      "outputs": [
        {
          "output_type": "execute_result",
          "data": {
            "text/plain": [
              "array([[1, 2, 3],\n",
              "       [4, 5, 6]])"
            ]
          },
          "metadata": {},
          "execution_count": 22
        }
      ],
      "source": [
        "# 2차원 array를 생성하여 출력  ->  [ [~~], [~~] ] 꼴\n",
        "ary=np.array([[1,2,3],\n",
        "             [4,5,6]])\n",
        "ary\n"
      ]
    },
    {
      "cell_type": "code",
      "execution_count": null,
      "metadata": {
        "id": "0GA9gZlZjqfQ",
        "colab": {
          "base_uri": "https://localhost:8080/"
        },
        "outputId": "7e6155cb-3252-4dda-cfe7-6f81160b0664"
      },
      "outputs": [
        {
          "output_type": "stream",
          "name": "stdout",
          "text": [
            "6\n",
            "6\n"
          ]
        }
      ],
      "source": [
        "# ary의 우하단 값을 출력\n",
        "print(ary[1,2])\n",
        "print(ary[-1,-1])"
      ]
    },
    {
      "cell_type": "code",
      "execution_count": null,
      "metadata": {
        "id": "gpxB58h8jqfQ",
        "colab": {
          "base_uri": "https://localhost:8080/"
        },
        "outputId": "3e8c46b2-c75e-498e-f2d0-914295d734b2"
      },
      "outputs": [
        {
          "output_type": "execute_result",
          "data": {
            "text/plain": [
              "2"
            ]
          },
          "metadata": {},
          "execution_count": 24
        }
      ],
      "source": [
        "# ary의 첫번째 행, 두번째 열의 값\n",
        "ary[0,1]\n"
      ]
    },
    {
      "cell_type": "code",
      "execution_count": null,
      "metadata": {
        "id": "ETzPLB33jqfR",
        "colab": {
          "base_uri": "https://localhost:8080/"
        },
        "outputId": "2482961f-a962-4b22-e09f-d3ebf1445b40"
      },
      "outputs": [
        {
          "output_type": "execute_result",
          "data": {
            "text/plain": [
              "array([1, 2, 3])"
            ]
          },
          "metadata": {},
          "execution_count": 25
        }
      ],
      "source": [
        "# ary의 첫번째 행 출력\n",
        "# ary[0,:]\n",
        "ary[0]\n"
      ]
    },
    {
      "cell_type": "code",
      "execution_count": null,
      "metadata": {
        "id": "8SRu0-AzjqfR",
        "colab": {
          "base_uri": "https://localhost:8080/"
        },
        "outputId": "23e6cd4b-6543-42dd-eea9-3f6174b7c3a9"
      },
      "outputs": [
        {
          "output_type": "execute_result",
          "data": {
            "text/plain": [
              "array([1, 4])"
            ]
          },
          "metadata": {},
          "execution_count": 26
        }
      ],
      "source": [
        "# ary의 첫번째 열 출력\n",
        "ary[:,0]\n"
      ]
    },
    {
      "cell_type": "code",
      "execution_count": null,
      "metadata": {
        "id": "ckcFt4axjqfR",
        "colab": {
          "base_uri": "https://localhost:8080/"
        },
        "outputId": "d7a4c854-9534-4afb-c154-e246e737e859"
      },
      "outputs": [
        {
          "output_type": "execute_result",
          "data": {
            "text/plain": [
              "array([[1, 2],\n",
              "       [4, 5]])"
            ]
          },
          "metadata": {},
          "execution_count": 27
        }
      ],
      "source": [
        "# ary의 모든 행에 대해 2번째 열까지 출력\n",
        "ary[:,:2]\n"
      ]
    },
    {
      "cell_type": "code",
      "execution_count": null,
      "metadata": {
        "id": "XLA_qlQxjqfR",
        "colab": {
          "base_uri": "https://localhost:8080/"
        },
        "outputId": "940732c5-6b1d-4703-b952-7746a9207e9a"
      },
      "outputs": [
        {
          "output_type": "execute_result",
          "data": {
            "text/plain": [
              "1"
            ]
          },
          "metadata": {},
          "execution_count": 28
        }
      ],
      "source": [
        "# ary의 첫번째 요소 출력\n",
        "\n",
        "ary[0,0]"
      ]
    },
    {
      "cell_type": "markdown",
      "metadata": {
        "id": "DORFu-f6jqfS"
      },
      "source": [
        "### Array Math and Universal Functions"
      ]
    },
    {
      "cell_type": "markdown",
      "metadata": {
        "id": "EtcPfecRjqfS"
      },
      "source": [
        "- ndarray에 수행하는 다양한 연산"
      ]
    },
    {
      "cell_type": "markdown",
      "metadata": {
        "id": "IPd5DTsdjqfU"
      },
      "source": [
        "NumPy는 수학 연산자(`+`, `-`, `/`, `*` 및 `**`)를 직접 사용하여 연산을 수행"
      ]
    },
    {
      "cell_type": "code",
      "execution_count": null,
      "metadata": {
        "id": "lTLW3X1gjqfU",
        "colab": {
          "base_uri": "https://localhost:8080/"
        },
        "outputId": "df3a6a5c-dc04-47a6-9c02-5a83bf414ea3"
      },
      "outputs": [
        {
          "output_type": "execute_result",
          "data": {
            "text/plain": [
              "array([[2, 3, 4],\n",
              "       [5, 6, 7]])"
            ]
          },
          "metadata": {},
          "execution_count": 29
        }
      ],
      "source": [
        "# 수학연산자 '+'를 사용하여 ary의 모든 요소에 1을 더한 배열을 출력\n",
        "ary+1\n"
      ]
    },
    {
      "cell_type": "code",
      "execution_count": null,
      "metadata": {
        "id": "hh8Lt4rZjqfV",
        "colab": {
          "base_uri": "https://localhost:8080/"
        },
        "outputId": "76a7e298-35f0-4888-a29b-73569f821eea"
      },
      "outputs": [
        {
          "output_type": "execute_result",
          "data": {
            "text/plain": [
              "array([[ 1,  4,  9],\n",
              "       [16, 25, 36]])"
            ]
          },
          "metadata": {},
          "execution_count": 30
        }
      ],
      "source": [
        "# 수학연산자 '**'를 사용하여 ary의 모든 요소의 제곱값을 가지는 배열을 출력\n",
        "\n",
        "ary**2"
      ]
    },
    {
      "cell_type": "code",
      "execution_count": null,
      "metadata": {
        "id": "kvhsAxVRjqfV",
        "colab": {
          "base_uri": "https://localhost:8080/"
        },
        "outputId": "1b831ea3-8160-437e-9646-f08975cf4d1d"
      },
      "outputs": [
        {
          "output_type": "execute_result",
          "data": {
            "text/plain": [
              "array([[1, 2, 3],\n",
              "       [4, 5, 6]])"
            ]
          },
          "metadata": {},
          "execution_count": 31
        }
      ],
      "source": [
        "# 2차원 배열 ary 선언\n",
        "ary=np.array([[1,2,3],[4,5,6]])\n",
        "ary"
      ]
    },
    {
      "cell_type": "code",
      "source": [
        "# numpy의 add.reduce 함수를 사용하여 ary의 각 열의 모든 행의 합에 해당하는 1차원 배열을 출력\n",
        "print(np.add.reduce(ary))\n"
      ],
      "metadata": {
        "id": "C3ubgC9eIneY",
        "colab": {
          "base_uri": "https://localhost:8080/"
        },
        "outputId": "779c613a-53b8-4dae-b609-1685e8e2b439"
      },
      "execution_count": null,
      "outputs": [
        {
          "output_type": "stream",
          "name": "stdout",
          "text": [
            "[5 7 9]\n"
          ]
        }
      ]
    },
    {
      "cell_type": "code",
      "source": [
        "# sum 함수를 사용하여 ary의 각 열의 모든 행의 합에 해당하는 1차원 배열을 출력\n",
        "print(ary.sum(axis=0))\n"
      ],
      "metadata": {
        "id": "JKPQjESaIoWj",
        "colab": {
          "base_uri": "https://localhost:8080/"
        },
        "outputId": "d6b39815-9a61-40fb-8483-ac4cc9c49f6f"
      },
      "execution_count": null,
      "outputs": [
        {
          "output_type": "stream",
          "name": "stdout",
          "text": [
            "[5 7 9]\n"
          ]
        }
      ]
    },
    {
      "cell_type": "code",
      "execution_count": null,
      "metadata": {
        "id": "YiyL4DJ8jqfV",
        "colab": {
          "base_uri": "https://localhost:8080/"
        },
        "outputId": "d023cb02-e8b8-4189-990c-3c5e0a911838"
      },
      "outputs": [
        {
          "output_type": "stream",
          "name": "stdout",
          "text": [
            "[ 6 15]\n"
          ]
        }
      ],
      "source": [
        "# numpy의 add.reduce 함수를 사용하여 ary의 각 행의 모든 열의 합에 해당하는 1차원 배열을 출력\n",
        "print(np.add.reduce(ary,axis=1))"
      ]
    },
    {
      "cell_type": "code",
      "source": [
        "# sum 함수를 사용하여 ary의 각 행의 모든 열의 합에 해당하는 1차원 배열을 출력\n",
        "print(ary.sum(axis=1))"
      ],
      "metadata": {
        "id": "N9jDjMlUJoLq",
        "colab": {
          "base_uri": "https://localhost:8080/"
        },
        "outputId": "1884377c-c403-4c84-b0f6-e90dca8f46c6"
      },
      "execution_count": null,
      "outputs": [
        {
          "output_type": "stream",
          "name": "stdout",
          "text": [
            "[ 6 15]\n"
          ]
        }
      ]
    },
    {
      "cell_type": "code",
      "execution_count": null,
      "metadata": {
        "id": "9nPPSWUHjqfW",
        "colab": {
          "base_uri": "https://localhost:8080/"
        },
        "outputId": "9b792766-2ad1-493f-eeb6-4ecbcd381c2e"
      },
      "outputs": [
        {
          "output_type": "execute_result",
          "data": {
            "text/plain": [
              "21"
            ]
          },
          "metadata": {},
          "execution_count": 36
        }
      ],
      "source": [
        "# sum 함수를 사용하여 ary 모든 요소의 합을 출력\n",
        "ary.sum()"
      ]
    },
    {
      "cell_type": "markdown",
      "metadata": {
        "id": "L8svdKz3jqfX"
      },
      "source": [
        "### Broadcasting"
      ]
    },
    {
      "cell_type": "code",
      "execution_count": null,
      "metadata": {
        "id": "6mCvX7g1jqfX",
        "colab": {
          "base_uri": "https://localhost:8080/"
        },
        "outputId": "c753ce7d-4314-48b1-9b43-8e45dbf3e98c"
      },
      "outputs": [
        {
          "output_type": "execute_result",
          "data": {
            "text/plain": [
              "array([5, 7, 9])"
            ]
          },
          "metadata": {},
          "execution_count": 37
        }
      ],
      "source": [
        "ary1 = np.array([1, 2, 3])\n",
        "ary2 = np.array([4, 5, 6])\n",
        "\n",
        "# '+' 연산자로 ary1과 ary2의 합을 출력\n",
        "ary1+ary2"
      ]
    },
    {
      "cell_type": "code",
      "execution_count": null,
      "metadata": {
        "id": "rQnMRKuRjqfY",
        "colab": {
          "base_uri": "https://localhost:8080/"
        },
        "outputId": "e7bb6ff4-f0d0-4a57-ee9b-e786c840beff"
      },
      "outputs": [
        {
          "output_type": "execute_result",
          "data": {
            "text/plain": [
              "array([[ 5,  7,  9],\n",
              "       [ 8, 10, 12]])"
            ]
          },
          "metadata": {},
          "execution_count": 38
        }
      ],
      "source": [
        "ary3 = np.array([[4, 5, 6],\n",
        "                 [7, 8, 9]])\n",
        "\n",
        "# '+'연산자로 ary3과 ary1의 합을 출력\n",
        "# ary1의 크기는 1x3이고 ary3의 크기는 2x3으로 서로 다르지만\n",
        "# broadcasting을 통해 크기를 맞춰서 연산\n",
        "ary3+ary1"
      ]
    },
    {
      "cell_type": "markdown",
      "metadata": {
        "id": "tcWVIO6WjqfY"
      },
      "source": [
        "![](./images/numpy-intro/broadcasting-2.png)"
      ]
    },
    {
      "cell_type": "markdown",
      "metadata": {
        "id": "74DesYv8jqfY"
      },
      "source": [
        "### Advanced Indexing -- Memory Views and Copies"
      ]
    },
    {
      "cell_type": "markdown",
      "metadata": {
        "id": "0nVID0D5jqfY"
      },
      "source": [
        "기본적인 정수 기반 인덱싱 및 슬라이싱은 메모리에 NumPy 배열의 *view*를 생성  (얕은 복사)  \n",
        "**얕은복사 view**: 메모리 자원을 절약하기 위해 불필요한 배열 복사본을 만드는 작업 방지"
      ]
    },
    {
      "cell_type": "code",
      "execution_count": null,
      "metadata": {
        "id": "4MD9cwqDjqfZ",
        "colab": {
          "base_uri": "https://localhost:8080/"
        },
        "outputId": "03cb433b-bf32-4cea-b6d4-f1fe3c6f05a0"
      },
      "outputs": [
        {
          "output_type": "execute_result",
          "data": {
            "text/plain": [
              "array([[100, 101, 102],\n",
              "       [  4,   5,   6]])"
            ]
          },
          "metadata": {},
          "execution_count": 39
        }
      ],
      "source": [
        "ary = np.array([[1, 2, 3],\n",
        "                [4, 5, 6]])\n",
        "\n",
        "# ary의 첫번째 행을 대입연산자'='을 사용하여 first_row에 입력\n",
        "first_row=ary[0]\n",
        "\n",
        "# first_row의 각 요소에 99를 더하여 출력\n",
        "first_row+=99\n",
        "ary\n"
      ]
    },
    {
      "cell_type": "markdown",
      "metadata": {
        "id": "D7kmBW6RjqfZ"
      },
      "source": [
        "위의 예제에 나타나는 것과 같이 `first_row` 값을 변경하면 원래 배열에도 영향을 미침.  \n",
        "그 이유는 `ary[0]`이 `ary`의 첫 번째 행에 대한 view를 생성한 후 해당 요소가 99만큼 증가했기 때문  \n",
        "\n",
        "**즉!! 이용한 얕은 복사이기 때문에 원래 배열도 바뀜**"
      ]
    },
    {
      "cell_type": "code",
      "execution_count": null,
      "metadata": {
        "id": "DPzC6nLSjqfZ",
        "colab": {
          "base_uri": "https://localhost:8080/"
        },
        "outputId": "b294e178-df70-4783-9e6b-eca5b51e0dd4"
      },
      "outputs": [
        {
          "output_type": "execute_result",
          "data": {
            "text/plain": [
              "array([[100, 101, 102],\n",
              "       [  4,   5,   6]])"
            ]
          },
          "metadata": {},
          "execution_count": 40
        }
      ],
      "source": [
        "ary = np.array([[1, 2, 3],\n",
        "                [4, 5, 6]])\n",
        "\n",
        "# ary의 첫번째 행 슬라이싱(:)으로 first_row에 입력\n",
        "first_row=ary[:1]   # 슬라이싱도 얕은 복사\n",
        "\n",
        "# first_row의 각 요소에 99를 더하여 출력\n",
        "first_row+=99\n",
        "ary\n"
      ]
    },
    {
      "cell_type": "markdown",
      "metadata": {
        "id": "3co-XJKIjqfa"
      },
      "source": [
        "**copy 함수, pancy 인덱싱 예제 (깊은 복사)**"
      ]
    },
    {
      "cell_type": "code",
      "execution_count": null,
      "metadata": {
        "id": "Llk9jL5qjqfa",
        "colab": {
          "base_uri": "https://localhost:8080/"
        },
        "outputId": "53272264-d8c8-41d3-bc99-cf3db1e71ea1"
      },
      "outputs": [
        {
          "output_type": "execute_result",
          "data": {
            "text/plain": [
              "array([[1, 2, 3],\n",
              "       [4, 5, 6]])"
            ]
          },
          "metadata": {},
          "execution_count": 41
        }
      ],
      "source": [
        "ary = np.array([[1, 2, 3],\n",
        "                [4, 5, 6]])\n",
        "\n",
        "# copy()함수를 사용하여  ary의 두번째 열을 second_row에 입력\n",
        "second_row=ary[1].copy()  # 깊은복사\n",
        "\n",
        "# second_row에 99를 더하여 출력\n",
        "second_row+=99\n",
        "ary\n"
      ]
    },
    {
      "cell_type": "markdown",
      "metadata": {
        "id": "yTNsqweljqfa"
      },
      "source": [
        "`pancy` 인덱싱을 통해 연속되지 않은 정수 인덱스의 튜플 또는 리스트 객체를 사용하여 원하는 배열 요소를 반환할 수 있음.  \n",
        "연속되지 않은 시퀀스로 수행될 수 있으므로 메모리에서 연속적인 슬라이스인 뷰를 반환할 수 없어, 항상 배열의 복사본을 반환"
      ]
    },
    {
      "cell_type": "code",
      "execution_count": null,
      "metadata": {
        "id": "PozC3Axkjqfa",
        "colab": {
          "base_uri": "https://localhost:8080/"
        },
        "outputId": "b8f8646e-833c-420e-ef67-8180f68374d9"
      },
      "outputs": [
        {
          "output_type": "execute_result",
          "data": {
            "text/plain": [
              "array([[1, 3],\n",
              "       [4, 6]])"
            ]
          },
          "metadata": {},
          "execution_count": 42
        }
      ],
      "source": [
        "ary = np.array([[1, 2, 3],\n",
        "                [4, 5, 6]])\n",
        "\n",
        "# 연속되지 않는 정수 인덱스의 배열 요소 반환 예제\n",
        "# 1열, 3열만 출력하기\n",
        "ary[:,[0,2]]\n"
      ]
    },
    {
      "cell_type": "code",
      "execution_count": null,
      "metadata": {
        "id": "dxXFzMHzjqfb",
        "colab": {
          "base_uri": "https://localhost:8080/"
        },
        "outputId": "55c495d2-ebea-463a-bf99-bcd99bd9dbc9"
      },
      "outputs": [
        {
          "output_type": "execute_result",
          "data": {
            "text/plain": [
              "array([[1, 2, 3],\n",
              "       [4, 5, 6]])"
            ]
          },
          "metadata": {},
          "execution_count": 43
        }
      ],
      "source": [
        "# pancy 인덱싱 예제\n",
        "# fancy indexing은 항상 깊은 복사임 !!\n",
        "this_is_a_copy=ary[:,[0,2]]\n",
        "this_is_a_copy+=99\n",
        "ary"
      ]
    },
    {
      "cell_type": "markdown",
      "metadata": {
        "id": "rkDiF7dsjqfb"
      },
      "source": [
        "인덱싱을 위해 `True` 및 `False` 값의 `bool`배열 마스크 활용"
      ]
    },
    {
      "cell_type": "code",
      "execution_count": null,
      "metadata": {
        "id": "6YJekrgajqfb",
        "colab": {
          "base_uri": "https://localhost:8080/"
        },
        "outputId": "4c9e112a-68f4-490b-843e-3c8501165299"
      },
      "outputs": [
        {
          "output_type": "execute_result",
          "data": {
            "text/plain": [
              "array([[False, False, False],\n",
              "       [ True,  True,  True]])"
            ]
          },
          "metadata": {},
          "execution_count": 44
        }
      ],
      "source": [
        "# mask를 사용한 인덱싱\n",
        "ary=np.array([[1,2,3],\n",
        "             [4,5,6]])\n",
        "\n",
        "# ary의 요소 중 3보다 큰 값에 대한 mask 생성\n",
        "greater3_mask=ary>3\n",
        "greater3_mask"
      ]
    },
    {
      "cell_type": "code",
      "execution_count": null,
      "metadata": {
        "id": "UfM_5osFjqfc",
        "colab": {
          "base_uri": "https://localhost:8080/"
        },
        "outputId": "3b75e689-3ca6-4fd8-ace7-44052c4b5c3a"
      },
      "outputs": [
        {
          "output_type": "execute_result",
          "data": {
            "text/plain": [
              "array([4, 5, 6])"
            ]
          },
          "metadata": {},
          "execution_count": 45
        }
      ],
      "source": [
        "# mask를 사용하여 ary의 요소중 3보다 큰 값만 출력\n",
        "# ary(마스크)  ->  마스크 값이 true인 것만 출력해줌\n",
        "ary[greater3_mask]"
      ]
    },
    {
      "cell_type": "markdown",
      "metadata": {
        "id": "PeoF__btjqfc"
      },
      "source": [
        "논리연산자 `and`, `&`, `or`, `|` 또한 활용 가능"
      ]
    },
    {
      "cell_type": "code",
      "execution_count": null,
      "metadata": {
        "id": "Ja3JQpQGjqfc",
        "colab": {
          "base_uri": "https://localhost:8080/"
        },
        "outputId": "bfff5593-f928-4d45-f2ed-e24cb839996d"
      },
      "outputs": [
        {
          "output_type": "execute_result",
          "data": {
            "text/plain": [
              "array([4, 6])"
            ]
          },
          "metadata": {},
          "execution_count": 46
        }
      ],
      "source": [
        "# 다양한 논리 연산자를 활용하여 출력\n",
        "ary[(ary>3)&(ary%2==0)]   # 3보다 큰 짝수"
      ]
    },
    {
      "cell_type": "markdown",
      "metadata": {
        "id": "vLvFMk1fjqfd"
      },
      "source": [
        "### Random Number Generators"
      ]
    },
    {
      "cell_type": "markdown",
      "metadata": {
        "id": "FBrLyYJ8jqfd"
      },
      "source": [
        "머신러닝과 딥러닝에서는 난수 배열을 생성해야 하는 활용하는 경우가 많음  \n",
        "ex) 파라매터 초기화 등"
      ]
    },
    {
      "cell_type": "code",
      "execution_count": null,
      "metadata": {
        "id": "JqgBGkAsjqfd",
        "colab": {
          "base_uri": "https://localhost:8080/"
        },
        "outputId": "770b5235-8f8b-41b8-db3c-ebdf0d199417"
      },
      "outputs": [
        {
          "output_type": "execute_result",
          "data": {
            "text/plain": [
              "array([0.69646919, 0.28613933, 0.22685145])"
            ]
          },
          "metadata": {},
          "execution_count": 47
        }
      ],
      "source": [
        "# seed값 고정 하기, random 한 값 생성\n",
        "# 시드값을 시간으로 설정해야 실행할 때마다 랜덤 값을 출력\n",
        "np.random.seed(123)\n",
        "# 전역적, 모든 NumPy의 난수 생성함수가 동일한 시드값을 사용해 랜덤 값을 출력한다\n",
        "\n",
        "np.random.rand(3)"
      ]
    },
    {
      "cell_type": "code",
      "execution_count": null,
      "metadata": {
        "id": "CoGlCDlejqfd",
        "outputId": "2c67d6b9-1b9e-4e29-f7af-646ebde40b64",
        "colab": {
          "base_uri": "https://localhost:8080/"
        }
      },
      "outputs": [
        {
          "output_type": "execute_result",
          "data": {
            "text/plain": [
              "array([0.69646919, 0.28613933, 0.22685145])"
            ]
          },
          "metadata": {},
          "execution_count": 48
        }
      ],
      "source": [
        "rng1 = np.random.RandomState(seed=123)\n",
        "# 개별적인 인스턴스를 생성할 수 있으므로, 각 인스턴스는 독립적으로  시드를 설정하고 난수를 생성\n",
        "\n",
        "rng1.rand(3)"
      ]
    },
    {
      "cell_type": "markdown",
      "metadata": {
        "id": "aIIcfYZujqfe"
      },
      "source": [
        "### Reshaping Arrays"
      ]
    },
    {
      "cell_type": "markdown",
      "metadata": {
        "id": "QTzcd2ZPjqfe"
      },
      "source": [
        "배열이 특정 계산을 수행할 때, *올바른* 모양을 갖지 않는 상황을 자주 직면하게 됨  \n",
        "NumPy 배열의 크기는 고정되어 있지만, 모양을 변경할 수 있음  \n",
        "NumPy는 다른 모양의 배열 보기를 얻을 수 있는 `reshape` 메소드를 제공\n",
        "\n",
        "예를 들어, 다음과 같이 `reshape`를 사용하여 1차원 배열을 2차원 배열로 재구성할 수 있음"
      ]
    },
    {
      "cell_type": "code",
      "execution_count": null,
      "metadata": {
        "id": "LmCfn3rDjqfe",
        "colab": {
          "base_uri": "https://localhost:8080/"
        },
        "outputId": "03f355f6-2dd3-4456-85a0-5138d6f01438"
      },
      "outputs": [
        {
          "output_type": "execute_result",
          "data": {
            "text/plain": [
              "array([[1, 2, 3],\n",
              "       [4, 5, 6]])"
            ]
          },
          "metadata": {},
          "execution_count": 49
        }
      ],
      "source": [
        "# 1에서 6의 값을 가지는 1차원 배열 arr1d를  생성\n",
        "ary1d=np.array([1,2,3,4,5,6])\n",
        "\n",
        "# reshape 함수로 2x3의 이차원 배열 arry2_view 생성\n",
        "ary2d_view=ary1d.reshape(2,3)\n",
        "ary2d_view"
      ]
    },
    {
      "cell_type": "code",
      "execution_count": null,
      "metadata": {
        "id": "bCET4JGjjqfe",
        "colab": {
          "base_uri": "https://localhost:8080/"
        },
        "outputId": "2e962f84-c891-4534-91d6-e5a2742bc17b"
      },
      "outputs": [
        {
          "output_type": "execute_result",
          "data": {
            "text/plain": [
              "True"
            ]
          },
          "metadata": {},
          "execution_count": 50
        }
      ],
      "source": [
        "# numpy의 may_share_memory 함수를 사용하여 ary2d_view와 arr2d가 같은 메모리를 공유하는 확인(True -> 얕은 복사)\n",
        "np.may_share_memory(ary2d_view,ary1d)   # 두 배열이 메모리를 공유하면 True, 공유하지 않으면 False\n",
        "# 얕은복사! 두 배열이 같은 메모리를 가리킴\n"
      ]
    },
    {
      "cell_type": "markdown",
      "metadata": {
        "id": "mOBSCTmijqfe"
      },
      "source": [
        "하나의 축만 지정하고 하나의 축은 `-1`로 지정하면 numpy에서 알맞은 축의 갯수를 계산하여 배열의 모양을 변경"
      ]
    },
    {
      "cell_type": "code",
      "execution_count": null,
      "metadata": {
        "id": "B2H6LVRzjqff",
        "colab": {
          "base_uri": "https://localhost:8080/"
        },
        "outputId": "7372da0d-aea9-4fda-9de0-da7c7f2913e4"
      },
      "outputs": [
        {
          "output_type": "execute_result",
          "data": {
            "text/plain": [
              "array([[1, 2, 3],\n",
              "       [4, 5, 6]])"
            ]
          },
          "metadata": {},
          "execution_count": 51
        }
      ],
      "source": [
        "# ary1d의 reshape의 하나의 축을 -1로 지정하여 2차원 배열 출력\n",
        "# 행이 2개\n",
        "ary1d.reshape(2,-1)"
      ]
    },
    {
      "cell_type": "markdown",
      "metadata": {
        "id": "lgCpg0C5jqff"
      },
      "source": [
        "`reshape`함수를 사용하면 2차원 배열을 1차원으로 펼 수도 있음"
      ]
    },
    {
      "cell_type": "code",
      "execution_count": null,
      "metadata": {
        "id": "QdeOcAfPjqff",
        "colab": {
          "base_uri": "https://localhost:8080/"
        },
        "outputId": "b81c70a3-2b50-4163-8d4d-368fd296a0e8"
      },
      "outputs": [
        {
          "output_type": "execute_result",
          "data": {
            "text/plain": [
              "array([1, 2, 3, 4, 5, 6])"
            ]
          },
          "metadata": {},
          "execution_count": 52
        }
      ],
      "source": [
        "# numpy 함수를 사용하여 2차원 배열을 1차원으로 펼치기\n",
        "ary = np.array([[[1, 2, 3],\n",
        "                [4, 5, 6]]])\n",
        "ary.reshape(-1)"
      ]
    },
    {
      "cell_type": "markdown",
      "metadata": {
        "id": "F9h7MtX-jqff"
      },
      "source": [
        "두개의 배열 값을 연결하고 싶을 때, NumPy 배열의 크기는 고정되어 있으므로 두 배열을 합친 **새 배열**을 만들어야 함  \n",
        "두 개 이상의 배열 객체를 결합하려면 다음 예와 같이 NumPy의 `concatenate`함수를 사용할 수 있음"
      ]
    },
    {
      "cell_type": "code",
      "execution_count": null,
      "metadata": {
        "id": "6Ae2ookkjqfg",
        "colab": {
          "base_uri": "https://localhost:8080/"
        },
        "outputId": "055472cc-8a63-4956-9165-d07950373e48"
      },
      "outputs": [
        {
          "output_type": "execute_result",
          "data": {
            "text/plain": [
              "array([1, 2, 3, 1, 2, 3])"
            ]
          },
          "metadata": {},
          "execution_count": 53
        }
      ],
      "source": [
        "ary = np.array([1, 2, 3])\n",
        "\n",
        "# 배열의 값을 뒤로 연결\n",
        "np.concatenate((ary,ary))"
      ]
    },
    {
      "cell_type": "code",
      "execution_count": null,
      "metadata": {
        "id": "dr1lU6mbjqfi",
        "colab": {
          "base_uri": "https://localhost:8080/"
        },
        "outputId": "ff778141-8c95-4140-9275-b0b7e858c311"
      },
      "outputs": [
        {
          "output_type": "execute_result",
          "data": {
            "text/plain": [
              "array([[1, 2, 3],\n",
              "       [1, 2, 3]])"
            ]
          },
          "metadata": {},
          "execution_count": 54
        }
      ],
      "source": [
        "ary = np.array([[1, 2, 3]])\n",
        "\n",
        "# 첫번째 축에 대해 배열을 연결 axis=0\n",
        "np.concatenate((ary,ary), axis=0)"
      ]
    },
    {
      "cell_type": "code",
      "execution_count": null,
      "metadata": {
        "id": "e_ITYCPWjqfi",
        "colab": {
          "base_uri": "https://localhost:8080/"
        },
        "outputId": "ef39d953-22b4-4808-fe63-80a94cd8f987"
      },
      "outputs": [
        {
          "output_type": "execute_result",
          "data": {
            "text/plain": [
              "array([[1, 2, 3, 1, 2, 3]])"
            ]
          },
          "metadata": {},
          "execution_count": 55
        }
      ],
      "source": [
        "# 두번째 축에 대해 배열을 연결 axis=1\n",
        "np.concatenate((ary,ary), axis=1)"
      ]
    },
    {
      "cell_type": "markdown",
      "metadata": {
        "id": "Ddl5cbqkjqfi"
      },
      "source": [
        "### Comparison Operators and Masks"
      ]
    },
    {
      "cell_type": "markdown",
      "metadata": {
        "id": "W7mFuEPbjqfj"
      },
      "source": [
        "비교 연산자(예: `<`, `>`, `<=` 및 `>=`)를 사용하여 해당 배열의 부울 마스크를 만들 수 있음  \n",
        "이 마스크는 해당 배열의 값에 따라 `True` 및 `False` 요소로 구성"
      ]
    },
    {
      "cell_type": "code",
      "execution_count": null,
      "metadata": {
        "id": "yANNj3VPjqfj",
        "colab": {
          "base_uri": "https://localhost:8080/"
        },
        "outputId": "8d896dce-afc5-4049-e10c-e983a4b5e0bb"
      },
      "outputs": [
        {
          "output_type": "execute_result",
          "data": {
            "text/plain": [
              "array([False, False,  True,  True])"
            ]
          },
          "metadata": {},
          "execution_count": 56
        }
      ],
      "source": [
        "# 비교연산자 예제\n",
        "ary=np.array([1,2,3,4])\n",
        "mask=ary>2\n",
        "mask"
      ]
    },
    {
      "cell_type": "markdown",
      "metadata": {
        "id": "jF9VvGxwjqfj"
      },
      "source": [
        "부울 마스크는 특정 조건을 만족하는 요소의 갯수를 확인할 때도 활용 가능"
      ]
    },
    {
      "cell_type": "code",
      "execution_count": null,
      "metadata": {
        "id": "L2mEK4mFjqfk",
        "colab": {
          "base_uri": "https://localhost:8080/"
        },
        "outputId": "e7a28ee7-14f6-4017-c3d5-248c3bd934e5"
      },
      "outputs": [
        {
          "output_type": "execute_result",
          "data": {
            "text/plain": [
              "2"
            ]
          },
          "metadata": {},
          "execution_count": 57
        }
      ],
      "source": [
        "# 생성한 mask를 사용하여 ary에서 2보다 큰 요소의 갯수를 출력\n",
        "mask.sum()"
      ]
    },
    {
      "cell_type": "markdown",
      "metadata": {
        "id": "lFpJOmMjjqfk"
      },
      "source": [
        "`np.where`: 배열의 특정 요소에 값을 할당하는데 유용한 함수\n",
        "\n",
        "C언어에서 조건 ? A : B 함수와 비슷함!"
      ]
    },
    {
      "cell_type": "code",
      "execution_count": null,
      "metadata": {
        "id": "dyxFgb-3jqfk",
        "colab": {
          "base_uri": "https://localhost:8080/"
        },
        "outputId": "3f152965-6b5c-47eb-90c6-1b033e84b46f"
      },
      "outputs": [
        {
          "output_type": "execute_result",
          "data": {
            "text/plain": [
              "array([0, 0, 1, 1])"
            ]
          },
          "metadata": {},
          "execution_count": 58
        }
      ],
      "source": [
        "# numpy의 where 함수를 사용하여 배열에서 2보다 큰 모든 값에 1을 할당하고, 그렇지 않으면 0을 할당\n",
        "np.where(ary>2,1,0)"
      ]
    },
    {
      "cell_type": "markdown",
      "metadata": {
        "id": "TDg0dGC9jqfm"
      },
      "source": [
        "### Linear Algebra with NumPy Arrays"
      ]
    },
    {
      "cell_type": "markdown",
      "metadata": {
        "id": "laFF3sMujqfm"
      },
      "source": [
        "1차원 NumPy 배열을 행 벡터를 나타내는 데이터 구조,\n",
        "2차원 NumPy 배열로 열 벡터를 나타내는 데이터 구조 생성 가능"
      ]
    },
    {
      "cell_type": "code",
      "execution_count": null,
      "metadata": {
        "id": "12wxhSmXjqfm",
        "colab": {
          "base_uri": "https://localhost:8080/"
        },
        "outputId": "5450c648-b728-461a-9c92-ce270c3de5e6"
      },
      "outputs": [
        {
          "output_type": "stream",
          "name": "stdout",
          "text": [
            "[1 2 3]\n",
            "[[1]\n",
            " [2]\n",
            " [3]]\n"
          ]
        }
      ],
      "source": [
        "# 배열 연산을 위해 row_vector와 column_vector 생성\n",
        "row_vector=np.array([1,2,3])\n",
        "print(row_vector)\n",
        "\n",
        "column_vector=np.array([1,2,3]).reshape(-1,1)\n",
        "print(column_vector)"
      ]
    },
    {
      "cell_type": "markdown",
      "metadata": {
        "id": "cppJBzDYjqfn"
      },
      "source": [
        "1차원 배열을 2차원 배열로 바꾸는 것은 아래의 방법으로 간단하게 새 축을 추가할 수 있음"
      ]
    },
    {
      "cell_type": "code",
      "execution_count": null,
      "metadata": {
        "id": "cO2xbziajqfn",
        "colab": {
          "base_uri": "https://localhost:8080/"
        },
        "outputId": "f6b81c3f-a1a8-4b24-ec1c-b91ca1f5faf9"
      },
      "outputs": [
        {
          "output_type": "execute_result",
          "data": {
            "text/plain": [
              "array([[1],\n",
              "       [2],\n",
              "       [3]])"
            ]
          },
          "metadata": {},
          "execution_count": 60
        }
      ],
      "source": [
        "# 1차원 배열을 2차원 배열로 변경 1\n",
        "row_vector[:,np.newaxis]"
      ]
    },
    {
      "cell_type": "code",
      "execution_count": null,
      "metadata": {
        "id": "zqZYvB_Gjqfn",
        "colab": {
          "base_uri": "https://localhost:8080/"
        },
        "outputId": "9bf7cb01-b131-4d61-8ef0-a82ec651b1fe"
      },
      "outputs": [
        {
          "output_type": "execute_result",
          "data": {
            "text/plain": [
              "array([[1],\n",
              "       [2],\n",
              "       [3]])"
            ]
          },
          "metadata": {},
          "execution_count": 61
        }
      ],
      "source": [
        "# 1차원 배열을 2차원 배열로 변경 2\n",
        "row_vector[:,None]"
      ]
    },
    {
      "cell_type": "markdown",
      "metadata": {
        "id": "INRaCwCfjqfn"
      },
      "source": [
        "행렬 간의 행렬 곱셈을 수행하려면 왼쪽 행렬의 열 수가 오른쪽 행렬의 행 수와 일치해야 함  \n",
        "NumPy에서는 `matmul` 함수를 통해 행렬 곱셈을 수행"
      ]
    },
    {
      "cell_type": "code",
      "execution_count": null,
      "metadata": {
        "id": "uUGJiTOjjqfn",
        "colab": {
          "base_uri": "https://localhost:8080/"
        },
        "outputId": "ba571655-e62b-469f-acec-b14d51baa2c8"
      },
      "outputs": [
        {
          "output_type": "execute_result",
          "data": {
            "text/plain": [
              "array([[1, 2, 3],\n",
              "       [4, 5, 6]])"
            ]
          },
          "metadata": {},
          "execution_count": 62
        }
      ],
      "source": [
        "# 배열 연산을 위한 matrix 생성\n",
        "matrix=np.array([[1,2,3],[4,5,6]])\n",
        "matrix"
      ]
    },
    {
      "cell_type": "code",
      "execution_count": null,
      "metadata": {
        "id": "bLBhG5oJjqfo",
        "colab": {
          "base_uri": "https://localhost:8080/"
        },
        "outputId": "24675347-c982-4f9b-f058-6c194baf26a9"
      },
      "outputs": [
        {
          "output_type": "execute_result",
          "data": {
            "text/plain": [
              "array([[14],\n",
              "       [32]])"
            ]
          },
          "metadata": {},
          "execution_count": 63
        }
      ],
      "source": [
        "# numpy의 matmul 함수를 사용하여 matrix와 column_vector의 행렬곱의 결과를 출력\n",
        "np.matmul(matrix,column_vector)   # 크기 2x1"
      ]
    },
    {
      "cell_type": "code",
      "execution_count": null,
      "metadata": {
        "id": "JsxurdOhjqfp",
        "colab": {
          "base_uri": "https://localhost:8080/"
        },
        "outputId": "ce383ea4-2a60-491f-9c74-dcd96006d7ae"
      },
      "outputs": [
        {
          "output_type": "execute_result",
          "data": {
            "text/plain": [
              "14"
            ]
          },
          "metadata": {},
          "execution_count": 64
        }
      ],
      "source": [
        "#  numpy의 matmul 함수를 사용하여 row_vector와 row_vector의 곱을 출력\n",
        "np.matmul(row_vector,row_vector)"
      ]
    },
    {
      "cell_type": "code",
      "execution_count": null,
      "metadata": {
        "id": "0vXsKdvIjqfp",
        "colab": {
          "base_uri": "https://localhost:8080/"
        },
        "outputId": "caa5226e-58d3-4c1a-9dd4-feb99584c19b"
      },
      "outputs": [
        {
          "output_type": "execute_result",
          "data": {
            "text/plain": [
              "array([14, 32])"
            ]
          },
          "metadata": {},
          "execution_count": 65
        }
      ],
      "source": [
        "#  numpy의 dot 함수를 사용하여 matrix와 row_vector의 곱을 출력\n",
        "np.dot(matrix,row_vector)   # 크기 1x2"
      ]
    },
    {
      "cell_type": "code",
      "execution_count": null,
      "metadata": {
        "id": "kop1Bt6-jqfq",
        "colab": {
          "base_uri": "https://localhost:8080/"
        },
        "outputId": "f85ca77e-2096-44a1-bede-183e16619bb1"
      },
      "outputs": [
        {
          "output_type": "execute_result",
          "data": {
            "text/plain": [
              "array([[1, 4],\n",
              "       [2, 5],\n",
              "       [3, 6]])"
            ]
          },
          "metadata": {},
          "execution_count": 66
        }
      ],
      "source": [
        "matrix = np.array([[1, 2, 3],\n",
        "                   [4, 5, 6]])\n",
        "\n",
        "# transpose함수를 사용하여 2차원 배열 matrix의 전치행렬 출력\n",
        "matrix.transpose()"
      ]
    },
    {
      "cell_type": "code",
      "execution_count": null,
      "metadata": {
        "id": "KRB5oOHJjqfr",
        "colab": {
          "base_uri": "https://localhost:8080/"
        },
        "outputId": "9ce9a822-350d-4c7e-ed82-06c7b303862a"
      },
      "outputs": [
        {
          "output_type": "execute_result",
          "data": {
            "text/plain": [
              "array([[1, 4],\n",
              "       [2, 5],\n",
              "       [3, 6]])"
            ]
          },
          "metadata": {},
          "execution_count": 67
        }
      ],
      "source": [
        "# `transpose`의 약칭 `T`로도 전치행렬 출력 가능\n",
        "matrix.T"
      ]
    },
    {
      "cell_type": "markdown",
      "metadata": {
        "id": "CXEWcZeTjqfr"
      },
      "source": [
        "## SciPy"
      ]
    },
    {
      "cell_type": "markdown",
      "metadata": {
        "id": "cmgPsUWzjqfr"
      },
      "source": [
        "- 과학 계산용 함수를 모아 놓은 파이썬 패키지  \n",
        "- Numpy가 지원하지 않는 고성능 선형대수, 함수 최적화, 신호 처리, 특수한 수학 함수와 통계 분포 등을 포함한 많은 기능을 제공\n",
        "- scikit-learn은 알고리즘을 구현할 때 SciPy의 여러 함수를 사용  \n",
        "[SciPy document link](https://docs.scipy.org/doc/scipy/reference/)\n"
      ]
    },
    {
      "cell_type": "markdown",
      "metadata": {
        "id": "zB77w-Umjqfs"
      },
      "source": [
        "## Matplotlib"
      ]
    },
    {
      "cell_type": "markdown",
      "metadata": {
        "id": "_nRbEe2Djqfs"
      },
      "source": [
        "- 데이터 차트나 그래프로 시각화하는 패키지\n",
        "- 데이터 분석 이전에 데이터 이해를 위한 시각화\n",
        "- 데이터 분석 이후에 결과를 시각화\n",
        "[공식 matplot 갤러리](https://matplotlib.org/gallery/index.html)"
      ]
    },
    {
      "cell_type": "code",
      "execution_count": null,
      "metadata": {
        "id": "noeftt_Ajqfs"
      },
      "outputs": [],
      "source": [
        "# 코드 셀에서 그래프를 생성하고 실행한 셀 아래에 이미지 형태로 바로 출력하도록 설정\n",
        "%matplotlib inline\n",
        "\n",
        "import matplotlib.pyplot as plt"
      ]
    },
    {
      "cell_type": "markdown",
      "metadata": {
        "id": "-jIhqu1ejqfs"
      },
      "source": [
        "### Plotting Functions and Lines"
      ]
    },
    {
      "cell_type": "code",
      "execution_count": null,
      "metadata": {
        "id": "tfhg99EVjqfs",
        "colab": {
          "base_uri": "https://localhost:8080/",
          "height": 430
        },
        "outputId": "e0430d42-6371-4a2c-d228-bd1f097f3801"
      },
      "outputs": [
        {
          "output_type": "display_data",
          "data": {
            "text/plain": [
              "<Figure size 640x480 with 1 Axes>"
            ],
            "image/png": "[encoded data removed]"
          },
          "metadata": {}
        }
      ],
      "source": [
        "# 그래프 예제 1\n",
        "# linspace함수로 0에서 10사이의 100개의 값을 요소로 가지는 배열 x를 생성\n",
        "x=np.linspace(0,10,100)\n",
        "\n",
        "# x에 대한 sin(x)를 그래프로 출력\n",
        "plt.plot(x,np.sin(x))\n",
        "plt.show()"
      ]
    },
    {
      "cell_type": "markdown",
      "metadata": {
        "id": "nK3qRCXDjqft"
      },
      "source": [
        "Add axis ranges and labels:"
      ]
    },
    {
      "cell_type": "code",
      "execution_count": null,
      "metadata": {
        "id": "j4EiYxHfjqft",
        "colab": {
          "base_uri": "https://localhost:8080/",
          "height": 449
        },
        "outputId": "d0fd04c4-0cad-4b20-dd17-e2affc1f5b16"
      },
      "outputs": [
        {
          "output_type": "display_data",
          "data": {
            "text/plain": [
              "<Figure size 640x480 with 1 Axes>"
            ],
            "image/png": "[encoded data removed]"
          },
          "metadata": {}
        }
      ],
      "source": [
        "# 그래프 예제 2\n",
        "# linspace함수로 0에서 10사이의 100개의 값을 요소로 가지는 배열 x를 생성, x에 대한 sin(x)를 그래프 생성\n",
        "x=np.linspace(0,10,100)\n",
        "plt.plot(x,np.sin(x))\n",
        "\n",
        "# xlim, ylim함수를 사용하여 x축의 값을 2에서 8, y축의 값을 0에서 0.75까지 출력\n",
        "plt.xlim([2,8])\n",
        "plt.ylim([0,0.75])\n",
        "\n",
        "# xlabel과 ylabel을 'x-axis', 'y-axis'로 설정하여 표를 출력\n",
        "plt.xlabel('x-axis')\n",
        "plt.ylabel('y-axis')\n",
        "\n",
        "plt.show()"
      ]
    },
    {
      "cell_type": "markdown",
      "source": [
        "`plt.legend`: 그림에 범례(legend)를 추가  \n",
        "loc = ['best': 최적의 위치를 자동으로 선택, 'upper rignt': 오른쪽 상단, 'upper left': 왼쪽 상단, 'lower right': 오른쪽 하단, 'loser left': 왼쪽 하단]"
      ],
      "metadata": {
        "id": "4vTzgxYN0_wk"
      }
    },
    {
      "cell_type": "code",
      "execution_count": null,
      "metadata": {
        "id": "0kOwmsSJjqft",
        "colab": {
          "base_uri": "https://localhost:8080/",
          "height": 449
        },
        "outputId": "c5c36491-f6b9-41fd-e459-bf0722da1cff"
      },
      "outputs": [
        {
          "output_type": "display_data",
          "data": {
            "text/plain": [
              "<Figure size 640x480 with 1 Axes>"
            ],
            "image/png": "[encoded data removed]"
          },
          "metadata": {}
        }
      ],
      "source": [
        "# 그래프 예제 3\n",
        "\n",
        "# linspace함수로 0에서 10사이의 100개의 값을 요소로 가지는 배열 x를 생성\n",
        "x=np.linspace(0,10,100)\n",
        "\n",
        "# x 값에 대한 sin, cos함수를 생성, option 'label'을 사용하여 범례를 지정\n",
        "plt.plot(x,np.sin(x), label=('sin(x)'))\n",
        "plt.plot(x,np.cos(x),label=('cos(x)'))\n",
        "\n",
        "# ylabel과 xlabel을 'f(x)', 'x'로 설정\n",
        "plt.xlabel('x')\n",
        "plt.ylabel('f(x)')\n",
        "\n",
        "# 범례의 위치를 좌하단으로 설정하여 표를 출력\n",
        "plt.legend(loc='lower left')\n",
        "plt.show()"
      ]
    },
    {
      "cell_type": "markdown",
      "metadata": {
        "id": "3F3D0egLjqft"
      },
      "source": [
        "## Scatter Plots(산점도)\n",
        "- 산점도(Scatter plot)를 생성, 주로 데이터의 점들을 시각화할 때 사용"
      ]
    },
    {
      "cell_type": "code",
      "execution_count": null,
      "metadata": {
        "id": "45rdncS-jqft",
        "colab": {
          "base_uri": "https://localhost:8080/",
          "height": 430
        },
        "outputId": "fb9058c8-ce02-44c4-86ba-b860e983c82c"
      },
      "outputs": [
        {
          "output_type": "display_data",
          "data": {
            "text/plain": [
              "<Figure size 640x480 with 1 Axes>"
            ],
            "image/png": "[encoded data removed]"
          },
          "metadata": {}
        }
      ],
      "source": [
        "# 난수 500개를 생성하여 산점도 그래프를 출력\n",
        "rng=np.random.RandomState(123)\n",
        "\n",
        "# 정규분포(평균 0, 표준편차 1)를 따르는 난수 500개 생성\n",
        "x=rng.normal(size=500)\n",
        "y=rng.normal(size=500)\n",
        "\n",
        "plt.scatter(x,y)\n",
        "plt.show()"
      ]
    },
    {
      "cell_type": "markdown",
      "metadata": {
        "id": "oBHnvewRjqfu"
      },
      "source": [
        "### Bar Plots(막대그래프)\n",
        "- 막대 그래프(Bar chart)를 생성\n",
        "- 범주형 데이터(category)의 빈도, 비교, 분포(values)등을 시각화 하는 데 효과적"
      ]
    },
    {
      "cell_type": "code",
      "execution_count": null,
      "metadata": {
        "id": "2MregiAYjqfu",
        "colab": {
          "base_uri": "https://localhost:8080/",
          "height": 430
        },
        "outputId": "560986fe-d4f5-4a34-cbb7-841b077224ec"
      },
      "outputs": [
        {
          "output_type": "display_data",
          "data": {
            "text/plain": [
              "<Figure size 640x480 with 1 Axes>"
            ],
            "image/png": "[encoded data removed]"
          },
          "metadata": {}
        }
      ],
      "source": [
        "# 막대 그래프 예제\n",
        "means=[1,2,3]\n",
        "stddevs=[0.2,0.4,0.5]\n",
        "bar_labels=['bar1', 'bar2', 'bar3']\n",
        "\n",
        "# 막대그래프 출력\n",
        "x_pos=list(range(len(bar_labels)))\n",
        "plt.bar(x_pos,means,yerr=stddevs) # yerr: 오차 막대의 길이(양수)\n",
        "# plt.bar(bar_labels, means, yerr=stddevs) 한 줄로도 가능!!\n",
        "\n",
        "plt.show()"
      ]
    },
    {
      "cell_type": "markdown",
      "metadata": {
        "id": "NhZColGGjqfu"
      },
      "source": [
        "### Histograms\n",
        "- 히스토그램을 생성, 데이터의 분포를  시각화하는 데 효과적\n",
        "- bin: 데이터를 나누는 구간의 수"
      ]
    },
    {
      "cell_type": "code",
      "execution_count": null,
      "metadata": {
        "id": "o6IrC28bjqfu",
        "colab": {
          "base_uri": "https://localhost:8080/",
          "height": 430
        },
        "outputId": "d9a70962-55d4-4f72-c8eb-010a63e5799f"
      },
      "outputs": [
        {
          "output_type": "display_data",
          "data": {
            "text/plain": [
              "<Figure size 640x480 with 1 Axes>"
            ],
            "image/png": "[encoded data removed]"
          },
          "metadata": {}
        }
      ],
      "source": [
        "# histogram 그래프 예제 1\n",
        "rng=np.random.RandomState(123)\n",
        "x=rng.normal(0,20,1000)\n",
        "\n",
        "# fixed bin size\n",
        "bins=np.arange(-100,100,5) # 고정된 bin size\n",
        "\n",
        "plt.hist(x,bins=bins)\n",
        "plt.show()"
      ]
    },
    {
      "cell_type": "code",
      "execution_count": null,
      "metadata": {
        "id": "8ANKk3MRjqfu",
        "colab": {
          "base_uri": "https://localhost:8080/",
          "height": 430
        },
        "outputId": "29e1f58c-847a-40c4-e707-a943da2162f2"
      },
      "outputs": [
        {
          "output_type": "display_data",
          "data": {
            "text/plain": [
              "<Figure size 640x480 with 1 Axes>"
            ],
            "image/png": "[encoded data removed]"
          },
          "metadata": {}
        }
      ],
      "source": [
        "# histogram 그래프 예제 2\n",
        "rng=np.random.RandomState(123)\n",
        "x1=rng.normal(0,20,1000)\n",
        "x2=rng.normal(15,10,1000)\n",
        "\n",
        "bins=np.arange(-100,100,5)\n",
        "\n",
        "plt.hist(x1,bins=bins,alpha=0.5)    # alpha는 투명도를 의미\n",
        "plt.hist(x2,bins=bins,alpha=0.5)\n",
        "plt.show()"
      ]
    },
    {
      "cell_type": "markdown",
      "metadata": {
        "id": "KHpO3Yhxjqfv"
      },
      "source": [
        "### Subplots(하위 그래프)\n",
        "- 여러 개의 하위 그래프(subplot)를 포함하는 Figure 객체와 그래프 객체를 생성\n",
        "- 하위 그래프에 접근할 때, ax[행, 열] 형식으로 인덱스를 사용"
      ]
    },
    {
      "cell_type": "code",
      "execution_count": null,
      "metadata": {
        "id": "kVfdN8KLjqfv",
        "colab": {
          "base_uri": "https://localhost:8080/",
          "height": 430
        },
        "outputId": "e40609ae-96c3-4cc6-96d2-a115659c75ac"
      },
      "outputs": [
        {
          "output_type": "display_data",
          "data": {
            "text/plain": [
              "<Figure size 640x480 with 6 Axes>"
            ],
            "image/png": "[encoded data removed]"
          },
          "metadata": {}
        }
      ],
      "source": [
        "import matplotlib.pyplot as plt\n",
        "# Subplots 그래프 예제\n",
        "\n",
        "x=range(11)   # (0,11] 정수. [0,1,2,...,10]\n",
        "y=range(11)\n",
        "\n",
        "fig,ax=plt.subplots(nrows=2,ncols=3,\n",
        "                   sharex=True, sharey=True)\n",
        "# ax: 그래프 객체\n",
        "\n",
        "for row in ax:\n",
        "  for col in row:\n",
        "    col.plot(x,y)\n",
        "\n",
        "plt.show()"
      ]
    },
    {
      "cell_type": "markdown",
      "metadata": {
        "id": "iwDVuXmujqfv"
      },
      "source": [
        "### Colors and Markers"
      ]
    },
    {
      "cell_type": "code",
      "execution_count": null,
      "metadata": {
        "id": "Y5d2TCdwjqfv",
        "colab": {
          "base_uri": "https://localhost:8080/",
          "height": 430
        },
        "outputId": "a5c00ded-1e9b-4bf7-bf29-bc92096d4232"
      },
      "outputs": [
        {
          "output_type": "display_data",
          "data": {
            "text/plain": [
              "<Figure size 640x480 with 1 Axes>"
            ],
            "image/png": "[encoded data removed]"
          },
          "metadata": {}
        }
      ],
      "source": [
        "# 그래프 디자인 변경 예제\n",
        "x=np.linspace(0,10,100)\n",
        "plt.plot(x,np.sin(x),color='orange',marker='^',linestyle='')\n",
        "\n",
        "plt.show()"
      ]
    },
    {
      "cell_type": "markdown",
      "metadata": {
        "id": "5AvgdAcrjqfv"
      },
      "source": [
        "### Saving Plots"
      ]
    },
    {
      "cell_type": "markdown",
      "metadata": {
        "id": "wcJw2qg1jqfv"
      },
      "source": [
        "- 다양한 확장자로 Figure 저장 지원 (.eps, .svg, .jpg, .png, .pdf, .tiff, etc.)"
      ]
    },
    {
      "cell_type": "code",
      "execution_count": null,
      "metadata": {
        "id": "THDlLrPhjqfx",
        "colab": {
          "base_uri": "https://localhost:8080/",
          "height": 430
        },
        "outputId": "ae5f5e34-a93f-4ac9-be13-49ecfd2cf36b"
      },
      "outputs": [
        {
          "output_type": "display_data",
          "data": {
            "text/plain": [
              "<Figure size 640x480 with 1 Axes>"
            ],
            "image/png": "[encoded data removed]"
          },
          "metadata": {}
        }
      ],
      "source": [
        "# 생성한 그래프 저장 예제\n",
        "import os\n",
        "x=np.linspace(0,10,100)\n",
        "plt.plot(x,np.sin(x))\n",
        "\n",
        "plt.savefig(os.path.join(colab_path,'myplot_practice.png'),dpi=300)\n",
        "plt.savefig('myplot_practice.pdf')\n",
        "\n",
        "plt.show()"
      ]
    },
    {
      "cell_type": "markdown",
      "source": [
        "#추가 실습1\n",
        "subplot을 이용해 sin(x), cos(x) 그래프 동시에 그려보기"
      ],
      "metadata": {
        "id": "R3H5FjePJ-gC"
      }
    },
    {
      "cell_type": "code",
      "source": [
        "x=np.linspace(0,20,100)\n",
        "\n",
        "ax1=plt.subplot(2,1,1)  # 첫번째 그래프\n",
        "plt.plot(x,np.sin(x),'ro-')\n",
        "plt.title('sin(x) Gragh')\n",
        "plt.ylabel('sin(x)')\n",
        "plt.xticks(visible=False)\n",
        "\n",
        "ax2=plt.subplot(2,1,2, sharex=ax1) # 두번째 그래프\n",
        "plt.plot(x,np.cos(x),'bo-')\n",
        "plt.title('cos(x) Gragh')\n",
        "plt.xlabel('x')\n",
        "plt.ylabel('cos(x)')\n",
        "\n",
        "plt.show()"
      ],
      "metadata": {
        "colab": {
          "base_uri": "https://localhost:8080/",
          "height": 472
        },
        "outputId": "11d32f08-ada4-4df8-d9dc-55adb590e418",
        "id": "povHaFNZNieS"
      },
      "execution_count": null,
      "outputs": [
        {
          "output_type": "display_data",
          "data": {
            "text/plain": [
              "<Figure size 640x480 with 2 Axes>"
            ],
            "image/png": "[encoded data removed]"
          },
          "metadata": {}
        }
      ]
    },
    {
      "cell_type": "markdown",
      "source": [
        "#추가 실습2\n",
        "\n",
        "*   연도별 한밭대학교 정보통신공학과 수시 입학 경쟁률 비교 그래프 그리기\n",
        "*   2019~2023년 정보통신공학과 수시 입학(학생부종합전형) 경쟁률을 비교하는 막대그래프 생성\n",
        "\n",
        "\n",
        "\n"
      ],
      "metadata": {
        "id": "bGX_myfvPgHv"
      }
    },
    {
      "cell_type": "code",
      "execution_count": null,
      "metadata": {
        "colab": {
          "base_uri": "https://localhost:8080/",
          "height": 472
        },
        "outputId": "10dc7932-5d90-4540-e18c-123b42356900",
        "id": "rxobhJL6PfL6"
      },
      "outputs": [
        {
          "output_type": "display_data",
          "data": {
            "text/plain": [
              "<Figure size 640x480 with 1 Axes>"
            ],
            "image/png": "[encoded data removed]"
          },
          "metadata": {}
        }
      ],
      "source": [
        "x=np.arange(5)\n",
        "years = ['2019', '2020', '2021', '2022', '2023']\n",
        "competition_rate = [7.78,7.88,5.31,4.,5.]\n",
        "\n",
        "plt.bar(x,competition_rate, width=0.4)\n",
        "plt.xticks(x,years)\n",
        "\n",
        "plt.title('Comparison of the competition rate for admission to ICT departments by year', fontsize=12)\n",
        "plt.ylabel('Competition Rate', fontsize=10)\n",
        "plt.xlabel('Years', fontsize=10)\n",
        "\n",
        "plt.show()"
      ]
    }
  ],
  "metadata": {
    "anaconda-cloud": {},
    "kernelspec": {
      "display_name": "Python 3 (ipykernel)",
      "language": "python",
      "name": "python3"
    },
    "language_info": {
      "codemirror_mode": {
        "name": "ipython",
        "version": 3
      },
      "file_extension": ".py",
      "mimetype": "text/x-python",
      "name": "python",
      "nbconvert_exporter": "python",
      "pygments_lexer": "ipython3",
      "version": "3.11.4"
    },
    "toc": {
      "nav_menu": {},
      "number_sections": true,
      "sideBar": true,
      "skip_h1_title": false,
      "title_cell": "Table of Contents",
      "title_sidebar": "Contents",
      "toc_cell": false,
      "toc_position": {},
      "toc_section_display": true,
      "toc_window_display": false
    },
    "colab": {
      "provenance": [],
      "include_colab_link": true
    }
  },
  "nbformat": 4,
  "nbformat_minor": 0
}